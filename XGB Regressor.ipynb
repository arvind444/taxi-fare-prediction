{
 "cells": [
  {
   "cell_type": "code",
   "execution_count": 1,
   "id": "18d41677",
   "metadata": {},
   "outputs": [],
   "source": [
    "import pandas as pd\n",
    "import numpy as np\n",
    "import matplotlib.pyplot as plt\n",
    "import seaborn as sns\n",
    "from xgboost import XGBRegressor, XGBRFRegressor\n",
    "from sklearn.metrics import mean_absolute_error, mean_squared_error\n",
    "from sklearn.model_selection import train_test_split\n",
    "from sklearn.linear_model import LassoCV\n",
    "from sklearn.preprocessing import MinMaxScaler\n",
    "import warnings\n",
    "warnings.filterwarnings('ignore')"
   ]
  },
  {
   "cell_type": "code",
   "execution_count": 2,
   "id": "d5be680a",
   "metadata": {},
   "outputs": [],
   "source": [
    "train = pd.read_csv(\"train.csv\")\n",
    "test = pd.read_csv(\"test.csv\")"
   ]
  },
  {
   "cell_type": "code",
   "execution_count": 3,
   "id": "755ba986",
   "metadata": {},
   "outputs": [
    {
     "data": {
      "text/html": [
       "<div>\n",
       "<style scoped>\n",
       "    .dataframe tbody tr th:only-of-type {\n",
       "        vertical-align: middle;\n",
       "    }\n",
       "\n",
       "    .dataframe tbody tr th {\n",
       "        vertical-align: top;\n",
       "    }\n",
       "\n",
       "    .dataframe thead th {\n",
       "        text-align: right;\n",
       "    }\n",
       "</style>\n",
       "<table border=\"1\" class=\"dataframe\">\n",
       "  <thead>\n",
       "    <tr style=\"text-align: right;\">\n",
       "      <th></th>\n",
       "      <th>trip_duration</th>\n",
       "      <th>distance_traveled</th>\n",
       "      <th>num_of_passengers</th>\n",
       "      <th>fare</th>\n",
       "      <th>tip</th>\n",
       "      <th>miscellaneous_fees</th>\n",
       "      <th>total_fare</th>\n",
       "      <th>surge_applied</th>\n",
       "    </tr>\n",
       "  </thead>\n",
       "  <tbody>\n",
       "    <tr>\n",
       "      <th>0</th>\n",
       "      <td>748.0</td>\n",
       "      <td>2.75</td>\n",
       "      <td>1.0</td>\n",
       "      <td>75.00</td>\n",
       "      <td>24</td>\n",
       "      <td>6.300</td>\n",
       "      <td>105.300</td>\n",
       "      <td>0</td>\n",
       "    </tr>\n",
       "    <tr>\n",
       "      <th>1</th>\n",
       "      <td>1187.0</td>\n",
       "      <td>3.43</td>\n",
       "      <td>1.0</td>\n",
       "      <td>105.00</td>\n",
       "      <td>24</td>\n",
       "      <td>13.200</td>\n",
       "      <td>142.200</td>\n",
       "      <td>0</td>\n",
       "    </tr>\n",
       "    <tr>\n",
       "      <th>2</th>\n",
       "      <td>730.0</td>\n",
       "      <td>3.12</td>\n",
       "      <td>1.0</td>\n",
       "      <td>71.25</td>\n",
       "      <td>0</td>\n",
       "      <td>26.625</td>\n",
       "      <td>97.875</td>\n",
       "      <td>1</td>\n",
       "    </tr>\n",
       "    <tr>\n",
       "      <th>3</th>\n",
       "      <td>671.0</td>\n",
       "      <td>5.63</td>\n",
       "      <td>3.0</td>\n",
       "      <td>90.00</td>\n",
       "      <td>0</td>\n",
       "      <td>9.750</td>\n",
       "      <td>99.750</td>\n",
       "      <td>0</td>\n",
       "    </tr>\n",
       "    <tr>\n",
       "      <th>4</th>\n",
       "      <td>329.0</td>\n",
       "      <td>2.09</td>\n",
       "      <td>1.0</td>\n",
       "      <td>45.00</td>\n",
       "      <td>12</td>\n",
       "      <td>13.200</td>\n",
       "      <td>70.200</td>\n",
       "      <td>0</td>\n",
       "    </tr>\n",
       "  </tbody>\n",
       "</table>\n",
       "</div>"
      ],
      "text/plain": [
       "   trip_duration  distance_traveled  num_of_passengers    fare  tip  \\\n",
       "0          748.0               2.75                1.0   75.00   24   \n",
       "1         1187.0               3.43                1.0  105.00   24   \n",
       "2          730.0               3.12                1.0   71.25    0   \n",
       "3          671.0               5.63                3.0   90.00    0   \n",
       "4          329.0               2.09                1.0   45.00   12   \n",
       "\n",
       "   miscellaneous_fees  total_fare  surge_applied  \n",
       "0               6.300     105.300              0  \n",
       "1              13.200     142.200              0  \n",
       "2              26.625      97.875              1  \n",
       "3               9.750      99.750              0  \n",
       "4              13.200      70.200              0  "
      ]
     },
     "execution_count": 3,
     "metadata": {},
     "output_type": "execute_result"
    }
   ],
   "source": [
    "train.head()"
   ]
  },
  {
   "cell_type": "code",
   "execution_count": 4,
   "id": "7431702c",
   "metadata": {},
   "outputs": [],
   "source": [
    "train.drop_duplicates(inplace=True)"
   ]
  },
  {
   "cell_type": "code",
   "execution_count": 5,
   "id": "f1b6eed7",
   "metadata": {},
   "outputs": [
    {
     "data": {
      "text/html": [
       "<div>\n",
       "<style scoped>\n",
       "    .dataframe tbody tr th:only-of-type {\n",
       "        vertical-align: middle;\n",
       "    }\n",
       "\n",
       "    .dataframe tbody tr th {\n",
       "        vertical-align: top;\n",
       "    }\n",
       "\n",
       "    .dataframe thead th {\n",
       "        text-align: right;\n",
       "    }\n",
       "</style>\n",
       "<table border=\"1\" class=\"dataframe\">\n",
       "  <thead>\n",
       "    <tr style=\"text-align: right;\">\n",
       "      <th></th>\n",
       "      <th>trip_duration</th>\n",
       "      <th>distance_traveled</th>\n",
       "      <th>num_of_passengers</th>\n",
       "      <th>fare</th>\n",
       "      <th>tip</th>\n",
       "      <th>miscellaneous_fees</th>\n",
       "      <th>total_fare</th>\n",
       "      <th>surge_applied</th>\n",
       "    </tr>\n",
       "  </thead>\n",
       "  <tbody>\n",
       "    <tr>\n",
       "      <th>count</th>\n",
       "      <td>205348.000000</td>\n",
       "      <td>205348.000000</td>\n",
       "      <td>205348.000000</td>\n",
       "      <td>205348.000000</td>\n",
       "      <td>205348.000000</td>\n",
       "      <td>205348.000000</td>\n",
       "      <td>205348.000000</td>\n",
       "      <td>205348.000000</td>\n",
       "    </tr>\n",
       "    <tr>\n",
       "      <th>mean</th>\n",
       "      <td>1189.102226</td>\n",
       "      <td>5.123167</td>\n",
       "      <td>1.298654</td>\n",
       "      <td>100.656568</td>\n",
       "      <td>13.247560</td>\n",
       "      <td>15.294384</td>\n",
       "      <td>129.198512</td>\n",
       "      <td>0.285803</td>\n",
       "    </tr>\n",
       "    <tr>\n",
       "      <th>std</th>\n",
       "      <td>4824.302160</td>\n",
       "      <td>126.528223</td>\n",
       "      <td>0.939258</td>\n",
       "      <td>86.142902</td>\n",
       "      <td>20.507879</td>\n",
       "      <td>12.621609</td>\n",
       "      <td>99.283531</td>\n",
       "      <td>0.451797</td>\n",
       "    </tr>\n",
       "    <tr>\n",
       "      <th>min</th>\n",
       "      <td>0.000000</td>\n",
       "      <td>0.020000</td>\n",
       "      <td>0.000000</td>\n",
       "      <td>0.000000</td>\n",
       "      <td>0.000000</td>\n",
       "      <td>-0.500000</td>\n",
       "      <td>0.000000</td>\n",
       "      <td>0.000000</td>\n",
       "    </tr>\n",
       "    <tr>\n",
       "      <th>25%</th>\n",
       "      <td>454.000000</td>\n",
       "      <td>1.980000</td>\n",
       "      <td>1.000000</td>\n",
       "      <td>52.500000</td>\n",
       "      <td>0.000000</td>\n",
       "      <td>6.000000</td>\n",
       "      <td>73.125000</td>\n",
       "      <td>0.000000</td>\n",
       "    </tr>\n",
       "    <tr>\n",
       "      <th>50%</th>\n",
       "      <td>716.000000</td>\n",
       "      <td>3.250000</td>\n",
       "      <td>1.000000</td>\n",
       "      <td>78.750000</td>\n",
       "      <td>9.000000</td>\n",
       "      <td>9.750000</td>\n",
       "      <td>103.500000</td>\n",
       "      <td>0.000000</td>\n",
       "    </tr>\n",
       "    <tr>\n",
       "      <th>75%</th>\n",
       "      <td>1110.000000</td>\n",
       "      <td>5.810000</td>\n",
       "      <td>1.000000</td>\n",
       "      <td>116.250000</td>\n",
       "      <td>20.000000</td>\n",
       "      <td>26.525000</td>\n",
       "      <td>153.450000</td>\n",
       "      <td>1.000000</td>\n",
       "    </tr>\n",
       "    <tr>\n",
       "      <th>max</th>\n",
       "      <td>86387.000000</td>\n",
       "      <td>57283.910000</td>\n",
       "      <td>9.000000</td>\n",
       "      <td>4466.250000</td>\n",
       "      <td>2500.000000</td>\n",
       "      <td>435.000000</td>\n",
       "      <td>4472.250000</td>\n",
       "      <td>1.000000</td>\n",
       "    </tr>\n",
       "  </tbody>\n",
       "</table>\n",
       "</div>"
      ],
      "text/plain": [
       "       trip_duration  distance_traveled  num_of_passengers           fare  \\\n",
       "count  205348.000000      205348.000000      205348.000000  205348.000000   \n",
       "mean     1189.102226           5.123167           1.298654     100.656568   \n",
       "std      4824.302160         126.528223           0.939258      86.142902   \n",
       "min         0.000000           0.020000           0.000000       0.000000   \n",
       "25%       454.000000           1.980000           1.000000      52.500000   \n",
       "50%       716.000000           3.250000           1.000000      78.750000   \n",
       "75%      1110.000000           5.810000           1.000000     116.250000   \n",
       "max     86387.000000       57283.910000           9.000000    4466.250000   \n",
       "\n",
       "                 tip  miscellaneous_fees     total_fare  surge_applied  \n",
       "count  205348.000000       205348.000000  205348.000000  205348.000000  \n",
       "mean       13.247560           15.294384     129.198512       0.285803  \n",
       "std        20.507879           12.621609      99.283531       0.451797  \n",
       "min         0.000000           -0.500000       0.000000       0.000000  \n",
       "25%         0.000000            6.000000      73.125000       0.000000  \n",
       "50%         9.000000            9.750000     103.500000       0.000000  \n",
       "75%        20.000000           26.525000     153.450000       1.000000  \n",
       "max      2500.000000          435.000000    4472.250000       1.000000  "
      ]
     },
     "execution_count": 5,
     "metadata": {},
     "output_type": "execute_result"
    }
   ],
   "source": [
    "train.describe()"
   ]
  },
  {
   "cell_type": "code",
   "execution_count": 6,
   "id": "25b59ea5",
   "metadata": {},
   "outputs": [
    {
     "data": {
      "text/plain": [
       "(205348, 8)"
      ]
     },
     "execution_count": 6,
     "metadata": {},
     "output_type": "execute_result"
    }
   ],
   "source": [
    "train.shape"
   ]
  },
  {
   "cell_type": "code",
   "execution_count": 7,
   "id": "0acf2d51",
   "metadata": {},
   "outputs": [],
   "source": [
    "train.drop(train[train[\"trip_duration\"]<= 0].index, inplace=True)"
   ]
  },
  {
   "cell_type": "code",
   "execution_count": 8,
   "id": "c941d4d4",
   "metadata": {},
   "outputs": [],
   "source": [
    "train.drop(train[train[\"distance_traveled\"]<= 0].index, inplace=True)"
   ]
  },
  {
   "cell_type": "code",
   "execution_count": 9,
   "id": "af4e45e6",
   "metadata": {},
   "outputs": [],
   "source": [
    "train.drop(train[train[\"num_of_passengers\"]<= 0].index, inplace=True)"
   ]
  },
  {
   "cell_type": "code",
   "execution_count": 10,
   "id": "d60d9c02",
   "metadata": {},
   "outputs": [
    {
     "data": {
      "text/plain": [
       "(204564, 8)"
      ]
     },
     "execution_count": 10,
     "metadata": {},
     "output_type": "execute_result"
    }
   ],
   "source": [
    "train.shape"
   ]
  },
  {
   "cell_type": "code",
   "execution_count": 11,
   "id": "4cb45e81",
   "metadata": {},
   "outputs": [
    {
     "data": {
      "text/html": [
       "<div>\n",
       "<style scoped>\n",
       "    .dataframe tbody tr th:only-of-type {\n",
       "        vertical-align: middle;\n",
       "    }\n",
       "\n",
       "    .dataframe tbody tr th {\n",
       "        vertical-align: top;\n",
       "    }\n",
       "\n",
       "    .dataframe thead th {\n",
       "        text-align: right;\n",
       "    }\n",
       "</style>\n",
       "<table border=\"1\" class=\"dataframe\">\n",
       "  <thead>\n",
       "    <tr style=\"text-align: right;\">\n",
       "      <th></th>\n",
       "      <th>trip_duration</th>\n",
       "      <th>distance_traveled</th>\n",
       "      <th>num_of_passengers</th>\n",
       "      <th>fare</th>\n",
       "      <th>tip</th>\n",
       "      <th>miscellaneous_fees</th>\n",
       "      <th>total_fare</th>\n",
       "      <th>surge_applied</th>\n",
       "    </tr>\n",
       "  </thead>\n",
       "  <tbody>\n",
       "    <tr>\n",
       "      <th>count</th>\n",
       "      <td>204564.000000</td>\n",
       "      <td>204564.000000</td>\n",
       "      <td>204564.000000</td>\n",
       "      <td>204564.000000</td>\n",
       "      <td>204564.000000</td>\n",
       "      <td>204564.000000</td>\n",
       "      <td>204564.000000</td>\n",
       "      <td>204564.000000</td>\n",
       "    </tr>\n",
       "    <tr>\n",
       "      <th>mean</th>\n",
       "      <td>1190.750484</td>\n",
       "      <td>5.127173</td>\n",
       "      <td>1.303450</td>\n",
       "      <td>100.682715</td>\n",
       "      <td>13.244012</td>\n",
       "      <td>15.288830</td>\n",
       "      <td>129.215557</td>\n",
       "      <td>0.285515</td>\n",
       "    </tr>\n",
       "    <tr>\n",
       "      <th>std</th>\n",
       "      <td>4833.326135</td>\n",
       "      <td>126.770049</td>\n",
       "      <td>0.937736</td>\n",
       "      <td>86.115812</td>\n",
       "      <td>20.494954</td>\n",
       "      <td>12.616267</td>\n",
       "      <td>99.232152</td>\n",
       "      <td>0.451660</td>\n",
       "    </tr>\n",
       "    <tr>\n",
       "      <th>min</th>\n",
       "      <td>1.000000</td>\n",
       "      <td>0.020000</td>\n",
       "      <td>1.000000</td>\n",
       "      <td>0.000000</td>\n",
       "      <td>0.000000</td>\n",
       "      <td>-0.500000</td>\n",
       "      <td>0.000000</td>\n",
       "      <td>0.000000</td>\n",
       "    </tr>\n",
       "    <tr>\n",
       "      <th>25%</th>\n",
       "      <td>454.000000</td>\n",
       "      <td>2.000000</td>\n",
       "      <td>1.000000</td>\n",
       "      <td>52.500000</td>\n",
       "      <td>0.000000</td>\n",
       "      <td>6.000000</td>\n",
       "      <td>73.125000</td>\n",
       "      <td>0.000000</td>\n",
       "    </tr>\n",
       "    <tr>\n",
       "      <th>50%</th>\n",
       "      <td>717.000000</td>\n",
       "      <td>3.250000</td>\n",
       "      <td>1.000000</td>\n",
       "      <td>78.750000</td>\n",
       "      <td>9.000000</td>\n",
       "      <td>9.750000</td>\n",
       "      <td>103.500000</td>\n",
       "      <td>0.000000</td>\n",
       "    </tr>\n",
       "    <tr>\n",
       "      <th>75%</th>\n",
       "      <td>1110.000000</td>\n",
       "      <td>5.810000</td>\n",
       "      <td>1.000000</td>\n",
       "      <td>116.250000</td>\n",
       "      <td>20.000000</td>\n",
       "      <td>26.525000</td>\n",
       "      <td>153.450000</td>\n",
       "      <td>1.000000</td>\n",
       "    </tr>\n",
       "    <tr>\n",
       "      <th>max</th>\n",
       "      <td>86387.000000</td>\n",
       "      <td>57283.910000</td>\n",
       "      <td>9.000000</td>\n",
       "      <td>4466.250000</td>\n",
       "      <td>2500.000000</td>\n",
       "      <td>435.000000</td>\n",
       "      <td>4472.250000</td>\n",
       "      <td>1.000000</td>\n",
       "    </tr>\n",
       "  </tbody>\n",
       "</table>\n",
       "</div>"
      ],
      "text/plain": [
       "       trip_duration  distance_traveled  num_of_passengers           fare  \\\n",
       "count  204564.000000      204564.000000      204564.000000  204564.000000   \n",
       "mean     1190.750484           5.127173           1.303450     100.682715   \n",
       "std      4833.326135         126.770049           0.937736      86.115812   \n",
       "min         1.000000           0.020000           1.000000       0.000000   \n",
       "25%       454.000000           2.000000           1.000000      52.500000   \n",
       "50%       717.000000           3.250000           1.000000      78.750000   \n",
       "75%      1110.000000           5.810000           1.000000     116.250000   \n",
       "max     86387.000000       57283.910000           9.000000    4466.250000   \n",
       "\n",
       "                 tip  miscellaneous_fees     total_fare  surge_applied  \n",
       "count  204564.000000       204564.000000  204564.000000  204564.000000  \n",
       "mean       13.244012           15.288830     129.215557       0.285515  \n",
       "std        20.494954           12.616267      99.232152       0.451660  \n",
       "min         0.000000           -0.500000       0.000000       0.000000  \n",
       "25%         0.000000            6.000000      73.125000       0.000000  \n",
       "50%         9.000000            9.750000     103.500000       0.000000  \n",
       "75%        20.000000           26.525000     153.450000       1.000000  \n",
       "max      2500.000000          435.000000    4472.250000       1.000000  "
      ]
     },
     "execution_count": 11,
     "metadata": {},
     "output_type": "execute_result"
    }
   ],
   "source": [
    "train.describe()"
   ]
  },
  {
   "cell_type": "code",
   "execution_count": 12,
   "id": "c00a57df",
   "metadata": {},
   "outputs": [],
   "source": [
    "y = train[\"fare\"]\n",
    "train.drop(\"fare\", axis=1, inplace=True)"
   ]
  },
  {
   "cell_type": "code",
   "execution_count": 13,
   "id": "cfa4488c",
   "metadata": {},
   "outputs": [],
   "source": [
    "X_train, X_valid, y_train, y_valid = train_test_split(train, y, test_size=0.3)"
   ]
  },
  {
   "cell_type": "code",
   "execution_count": 14,
   "id": "82848086",
   "metadata": {},
   "outputs": [],
   "source": [
    "X_train_extra = X_train[[\"tip\", \"miscellaneous_fees\"]]"
   ]
  },
  {
   "cell_type": "code",
   "execution_count": 15,
   "id": "616be9e8",
   "metadata": {},
   "outputs": [],
   "source": [
    "X_train = X_train[[\"trip_duration\", \"distance_traveled\", \"num_of_passengers\", \"surge_applied\"]]"
   ]
  },
  {
   "cell_type": "code",
   "execution_count": 16,
   "id": "ad0ffd53",
   "metadata": {},
   "outputs": [],
   "source": [
    "X_valid_extra = X_valid[[\"tip\", \"miscellaneous_fees\"]]"
   ]
  },
  {
   "cell_type": "code",
   "execution_count": 17,
   "id": "0aa4f538",
   "metadata": {},
   "outputs": [],
   "source": [
    "X_valid = X_valid[[\"trip_duration\", \"distance_traveled\", \"num_of_passengers\", \"surge_applied\"]]"
   ]
  },
  {
   "cell_type": "code",
   "execution_count": 18,
   "id": "bc02587b",
   "metadata": {},
   "outputs": [],
   "source": [
    "from scipy.stats import spearmanr\n",
    "\n",
    "p_val = []\n",
    "corr = []\n",
    "\n",
    "for i in X_train.columns:\n",
    "    \n",
    "    correlation, p_value = spearmanr(X_train[i], y_train)\n",
    "    p_val.append(p_value)\n",
    "    corr.append(correlation)"
   ]
  },
  {
   "cell_type": "code",
   "execution_count": 19,
   "id": "a366ab4c",
   "metadata": {},
   "outputs": [
    {
     "data": {
      "text/plain": [
       "([0.0, 0.0, 8.50940914691462e-16, 0.0],\n",
       " [0.9087328384260042,\n",
       "  0.9185716996791125,\n",
       "  0.021262149386232554,\n",
       "  0.29758188780035744])"
      ]
     },
     "execution_count": 19,
     "metadata": {},
     "output_type": "execute_result"
    }
   ],
   "source": [
    "p_val, corr"
   ]
  },
  {
   "cell_type": "code",
   "execution_count": 20,
   "id": "640759ed",
   "metadata": {},
   "outputs": [],
   "source": [
    "from scipy.stats import kendalltau\n",
    "\n",
    "p_val = []\n",
    "corr = []\n",
    "\n",
    "for i in X_train.columns:\n",
    "    \n",
    "    correlation, p_value = kendalltau(X_train[i], y_train)\n",
    "    p_val.append(p_value)\n",
    "    corr.append(correlation)"
   ]
  },
  {
   "cell_type": "code",
   "execution_count": 21,
   "id": "699d37d3",
   "metadata": {},
   "outputs": [
    {
     "data": {
      "text/plain": [
       "([0.0, 0.0, 7.884659457162761e-16, 0.0],\n",
       " [0.803499582172533,\n",
       "  0.8081054044816852,\n",
       "  0.017236743413046388,\n",
       "  0.24615776215346732])"
      ]
     },
     "execution_count": 21,
     "metadata": {},
     "output_type": "execute_result"
    }
   ],
   "source": [
    "p_val, corr"
   ]
  },
  {
   "cell_type": "code",
   "execution_count": 22,
   "id": "32e8af41",
   "metadata": {},
   "outputs": [],
   "source": [
    "from scipy.stats import pearsonr\n",
    "\n",
    "p_val = []\n",
    "corr = []\n",
    "\n",
    "for i in X_train.columns:\n",
    "    \n",
    "    correlation, p_value = pearsonr(X_train[i], y_train)\n",
    "    p_val.append(p_value)\n",
    "    corr.append(correlation)"
   ]
  },
  {
   "cell_type": "code",
   "execution_count": 23,
   "id": "c60fa9dc",
   "metadata": {},
   "outputs": [
    {
     "data": {
      "text/plain": [
       "([0.0, 4.088585783852782e-30, 0.00027078989446878383, 0.0],\n",
       " [0.14695974527932723,\n",
       "  0.030124644758085087,\n",
       "  0.009623688928629984,\n",
       "  0.14343747111547273])"
      ]
     },
     "execution_count": 23,
     "metadata": {},
     "output_type": "execute_result"
    }
   ],
   "source": [
    "p_val, corr"
   ]
  },
  {
   "cell_type": "markdown",
   "id": "79649fd8",
   "metadata": {},
   "source": [
    "# Scaling the data"
   ]
  },
  {
   "cell_type": "code",
   "execution_count": 24,
   "id": "1b8f4f06",
   "metadata": {},
   "outputs": [],
   "source": [
    "scale = MinMaxScaler()\n",
    "scale.fit(X_train)\n",
    "X_train_scale = scale.transform(X_train)"
   ]
  },
  {
   "cell_type": "code",
   "execution_count": 25,
   "id": "68b12506",
   "metadata": {},
   "outputs": [],
   "source": [
    "X_valid_scale = scale.transform(X_valid)"
   ]
  },
  {
   "cell_type": "code",
   "execution_count": 26,
   "id": "8ef26955",
   "metadata": {},
   "outputs": [],
   "source": [
    "out_scale = MinMaxScaler()\n",
    "out_scale.fit(np.array(y_train).reshape(-1,1))\n",
    "y_train_scale = out_scale.transform(np.array(y_train).reshape(-1,1))"
   ]
  },
  {
   "cell_type": "code",
   "execution_count": 27,
   "id": "8f062667",
   "metadata": {},
   "outputs": [],
   "source": [
    "y_valid_scale = out_scale.transform(np.array(y_valid).reshape(-1,1))"
   ]
  },
  {
   "cell_type": "code",
   "execution_count": 28,
   "id": "51a46045",
   "metadata": {},
   "outputs": [
    {
     "data": {
      "text/html": [
       "<div>\n",
       "<style scoped>\n",
       "    .dataframe tbody tr th:only-of-type {\n",
       "        vertical-align: middle;\n",
       "    }\n",
       "\n",
       "    .dataframe tbody tr th {\n",
       "        vertical-align: top;\n",
       "    }\n",
       "\n",
       "    .dataframe thead th {\n",
       "        text-align: right;\n",
       "    }\n",
       "</style>\n",
       "<table border=\"1\" class=\"dataframe\">\n",
       "  <thead>\n",
       "    <tr style=\"text-align: right;\">\n",
       "      <th></th>\n",
       "      <th>trip_duration</th>\n",
       "      <th>distance_traveled</th>\n",
       "      <th>num_of_passengers</th>\n",
       "      <th>surge_applied</th>\n",
       "    </tr>\n",
       "  </thead>\n",
       "  <tbody>\n",
       "    <tr>\n",
       "      <th>0</th>\n",
       "      <td>0.009052</td>\n",
       "      <td>0.000104</td>\n",
       "      <td>0.000</td>\n",
       "      <td>1.0</td>\n",
       "    </tr>\n",
       "    <tr>\n",
       "      <th>1</th>\n",
       "      <td>0.025629</td>\n",
       "      <td>0.000083</td>\n",
       "      <td>0.125</td>\n",
       "      <td>1.0</td>\n",
       "    </tr>\n",
       "    <tr>\n",
       "      <th>2</th>\n",
       "      <td>0.017399</td>\n",
       "      <td>0.000210</td>\n",
       "      <td>0.000</td>\n",
       "      <td>0.0</td>\n",
       "    </tr>\n",
       "    <tr>\n",
       "      <th>3</th>\n",
       "      <td>0.006494</td>\n",
       "      <td>0.000052</td>\n",
       "      <td>0.000</td>\n",
       "      <td>1.0</td>\n",
       "    </tr>\n",
       "    <tr>\n",
       "      <th>4</th>\n",
       "      <td>0.010453</td>\n",
       "      <td>0.000097</td>\n",
       "      <td>0.000</td>\n",
       "      <td>0.0</td>\n",
       "    </tr>\n",
       "  </tbody>\n",
       "</table>\n",
       "</div>"
      ],
      "text/plain": [
       "   trip_duration  distance_traveled  num_of_passengers  surge_applied\n",
       "0       0.009052           0.000104              0.000            1.0\n",
       "1       0.025629           0.000083              0.125            1.0\n",
       "2       0.017399           0.000210              0.000            0.0\n",
       "3       0.006494           0.000052              0.000            1.0\n",
       "4       0.010453           0.000097              0.000            0.0"
      ]
     },
     "execution_count": 28,
     "metadata": {},
     "output_type": "execute_result"
    }
   ],
   "source": [
    "X_train_df = pd.DataFrame(X_train_scale, columns=scale.get_feature_names_out())\n",
    "X_train_df.head()"
   ]
  },
  {
   "cell_type": "code",
   "execution_count": 29,
   "id": "6ae6aadb",
   "metadata": {},
   "outputs": [
    {
     "data": {
      "text/html": [
       "<div>\n",
       "<style scoped>\n",
       "    .dataframe tbody tr th:only-of-type {\n",
       "        vertical-align: middle;\n",
       "    }\n",
       "\n",
       "    .dataframe tbody tr th {\n",
       "        vertical-align: top;\n",
       "    }\n",
       "\n",
       "    .dataframe thead th {\n",
       "        text-align: right;\n",
       "    }\n",
       "</style>\n",
       "<table border=\"1\" class=\"dataframe\">\n",
       "  <thead>\n",
       "    <tr style=\"text-align: right;\">\n",
       "      <th></th>\n",
       "      <th>trip_duration</th>\n",
       "      <th>distance_traveled</th>\n",
       "      <th>num_of_passengers</th>\n",
       "      <th>surge_applied</th>\n",
       "    </tr>\n",
       "  </thead>\n",
       "  <tbody>\n",
       "    <tr>\n",
       "      <th>0</th>\n",
       "      <td>0.016646</td>\n",
       "      <td>0.000084</td>\n",
       "      <td>0.125</td>\n",
       "      <td>0.0</td>\n",
       "    </tr>\n",
       "    <tr>\n",
       "      <th>1</th>\n",
       "      <td>0.013324</td>\n",
       "      <td>0.000078</td>\n",
       "      <td>0.000</td>\n",
       "      <td>0.0</td>\n",
       "    </tr>\n",
       "    <tr>\n",
       "      <th>2</th>\n",
       "      <td>0.005360</td>\n",
       "      <td>0.000106</td>\n",
       "      <td>0.000</td>\n",
       "      <td>0.0</td>\n",
       "    </tr>\n",
       "    <tr>\n",
       "      <th>3</th>\n",
       "      <td>0.012004</td>\n",
       "      <td>0.000086</td>\n",
       "      <td>0.000</td>\n",
       "      <td>0.0</td>\n",
       "    </tr>\n",
       "    <tr>\n",
       "      <th>4</th>\n",
       "      <td>0.006714</td>\n",
       "      <td>0.000039</td>\n",
       "      <td>0.000</td>\n",
       "      <td>0.0</td>\n",
       "    </tr>\n",
       "  </tbody>\n",
       "</table>\n",
       "</div>"
      ],
      "text/plain": [
       "   trip_duration  distance_traveled  num_of_passengers  surge_applied\n",
       "0       0.016646           0.000084              0.125            0.0\n",
       "1       0.013324           0.000078              0.000            0.0\n",
       "2       0.005360           0.000106              0.000            0.0\n",
       "3       0.012004           0.000086              0.000            0.0\n",
       "4       0.006714           0.000039              0.000            0.0"
      ]
     },
     "execution_count": 29,
     "metadata": {},
     "output_type": "execute_result"
    }
   ],
   "source": [
    "X_valid_df = pd.DataFrame(X_valid_scale, columns=scale.get_feature_names_out())\n",
    "X_valid_df.head()"
   ]
  },
  {
   "cell_type": "code",
   "execution_count": 30,
   "id": "28bfcec7",
   "metadata": {},
   "outputs": [
    {
     "data": {
      "text/html": [
       "<div>\n",
       "<style scoped>\n",
       "    .dataframe tbody tr th:only-of-type {\n",
       "        vertical-align: middle;\n",
       "    }\n",
       "\n",
       "    .dataframe tbody tr th {\n",
       "        vertical-align: top;\n",
       "    }\n",
       "\n",
       "    .dataframe thead th {\n",
       "        text-align: right;\n",
       "    }\n",
       "</style>\n",
       "<table border=\"1\" class=\"dataframe\">\n",
       "  <thead>\n",
       "    <tr style=\"text-align: right;\">\n",
       "      <th></th>\n",
       "      <th>fare</th>\n",
       "    </tr>\n",
       "  </thead>\n",
       "  <tbody>\n",
       "    <tr>\n",
       "      <th>0</th>\n",
       "      <td>0.021830</td>\n",
       "    </tr>\n",
       "    <tr>\n",
       "      <th>1</th>\n",
       "      <td>0.039463</td>\n",
       "    </tr>\n",
       "    <tr>\n",
       "      <th>2</th>\n",
       "      <td>0.040302</td>\n",
       "    </tr>\n",
       "    <tr>\n",
       "      <th>3</th>\n",
       "      <td>0.014274</td>\n",
       "    </tr>\n",
       "    <tr>\n",
       "      <th>4</th>\n",
       "      <td>0.023510</td>\n",
       "    </tr>\n",
       "  </tbody>\n",
       "</table>\n",
       "</div>"
      ],
      "text/plain": [
       "       fare\n",
       "0  0.021830\n",
       "1  0.039463\n",
       "2  0.040302\n",
       "3  0.014274\n",
       "4  0.023510"
      ]
     },
     "execution_count": 30,
     "metadata": {},
     "output_type": "execute_result"
    }
   ],
   "source": [
    "y_train_df = pd.DataFrame(y_train_scale, columns=['fare'])\n",
    "y_train_df.head()"
   ]
  },
  {
   "cell_type": "code",
   "execution_count": 31,
   "id": "a9fdf46a",
   "metadata": {},
   "outputs": [
    {
     "data": {
      "text/html": [
       "<div>\n",
       "<style scoped>\n",
       "    .dataframe tbody tr th:only-of-type {\n",
       "        vertical-align: middle;\n",
       "    }\n",
       "\n",
       "    .dataframe tbody tr th {\n",
       "        vertical-align: top;\n",
       "    }\n",
       "\n",
       "    .dataframe thead th {\n",
       "        text-align: right;\n",
       "    }\n",
       "</style>\n",
       "<table border=\"1\" class=\"dataframe\">\n",
       "  <thead>\n",
       "    <tr style=\"text-align: right;\">\n",
       "      <th></th>\n",
       "      <th>fare</th>\n",
       "    </tr>\n",
       "  </thead>\n",
       "  <tbody>\n",
       "    <tr>\n",
       "      <th>0</th>\n",
       "      <td>0.026868</td>\n",
       "    </tr>\n",
       "    <tr>\n",
       "      <th>1</th>\n",
       "      <td>0.021830</td>\n",
       "    </tr>\n",
       "    <tr>\n",
       "      <th>2</th>\n",
       "      <td>0.020991</td>\n",
       "    </tr>\n",
       "    <tr>\n",
       "      <th>3</th>\n",
       "      <td>0.023510</td>\n",
       "    </tr>\n",
       "    <tr>\n",
       "      <th>4</th>\n",
       "      <td>0.013434</td>\n",
       "    </tr>\n",
       "  </tbody>\n",
       "</table>\n",
       "</div>"
      ],
      "text/plain": [
       "       fare\n",
       "0  0.026868\n",
       "1  0.021830\n",
       "2  0.020991\n",
       "3  0.023510\n",
       "4  0.013434"
      ]
     },
     "execution_count": 31,
     "metadata": {},
     "output_type": "execute_result"
    }
   ],
   "source": [
    "y_valid_df = pd.DataFrame(y_valid_scale, columns=['fare'])\n",
    "y_valid_df.head()"
   ]
  },
  {
   "cell_type": "markdown",
   "id": "7d87ccbb",
   "metadata": {},
   "source": [
    "# Building a Regression Model"
   ]
  },
  {
   "cell_type": "code",
   "execution_count": 39,
   "id": "fe27bf26",
   "metadata": {},
   "outputs": [
    {
     "data": {
      "text/plain": [
       "0.00021578014688373472"
      ]
     },
     "execution_count": 39,
     "metadata": {},
     "output_type": "execute_result"
    }
   ],
   "source": [
    "model_1 = XGBRegressor()\n",
    "model_1.fit(X_train_df[[\"trip_duration\"]], y_train_df[\"fare\"])\n",
    "model_1_pred = model_1.predict(X_valid_df[[\"trip_duration\"]])\n",
    "model_1_mse = mean_squared_error(y_valid_scale, model_1_pred)\n",
    "model_1_mse"
   ]
  },
  {
   "cell_type": "code",
   "execution_count": 40,
   "id": "69979c34",
   "metadata": {},
   "outputs": [
    {
     "data": {
      "text/plain": [
       "0.0001282520323012554"
      ]
     },
     "execution_count": 40,
     "metadata": {},
     "output_type": "execute_result"
    }
   ],
   "source": [
    "model_2 = XGBRegressor()\n",
    "model_2.fit(X_train_df[[\"distance_traveled\"]], y_train_df[\"fare\"])\n",
    "model_2_pred = model_2.predict(X_valid_df[[\"distance_traveled\"]])\n",
    "model_2_mse = mean_squared_error(y_valid_scale, model_2_pred)\n",
    "model_2_mse"
   ]
  },
  {
   "cell_type": "code",
   "execution_count": 41,
   "id": "0282b8bf",
   "metadata": {},
   "outputs": [
    {
     "data": {
      "text/plain": [
       "0.00038458797772346234"
      ]
     },
     "execution_count": 41,
     "metadata": {},
     "output_type": "execute_result"
    }
   ],
   "source": [
    "model_3 = XGBRegressor()\n",
    "model_3.fit(X_train_df[[\"num_of_passengers\"]], y_train_df[\"fare\"])\n",
    "model_3_pred = model_3.predict(X_valid_df[[\"num_of_passengers\"]])\n",
    "model_3_mse = mean_squared_error(y_valid_scale, model_3_pred)\n",
    "model_3_mse"
   ]
  },
  {
   "cell_type": "code",
   "execution_count": 42,
   "id": "a1983482",
   "metadata": {},
   "outputs": [
    {
     "data": {
      "text/plain": [
       "0.00037873411413975693"
      ]
     },
     "execution_count": 42,
     "metadata": {},
     "output_type": "execute_result"
    }
   ],
   "source": [
    "model_4 = XGBRegressor()\n",
    "model_4.fit(X_train_df[[\"surge_applied\"]], y_train_df[\"fare\"])\n",
    "model_4_pred = model_4.predict(X_valid_df[[\"surge_applied\"]])\n",
    "model_4_mse = mean_squared_error(y_valid_scale, model_4_pred)\n",
    "model_4_mse"
   ]
  },
  {
   "cell_type": "code",
   "execution_count": 43,
   "id": "baab827c",
   "metadata": {},
   "outputs": [
    {
     "data": {
      "text/plain": [
       "9.860604889873457e-05"
      ]
     },
     "execution_count": 43,
     "metadata": {},
     "output_type": "execute_result"
    }
   ],
   "source": [
    "model_5 = XGBRegressor()\n",
    "model_5.fit(X_train_df[[\"distance_traveled\", \"trip_duration\"]], y_train_df[\"fare\"])\n",
    "model_5_pred = model_5.predict(X_valid_df[[\"distance_traveled\", \"trip_duration\"]])\n",
    "model_5_mse = mean_squared_error(y_valid_scale, model_5_pred)\n",
    "model_5_mse"
   ]
  },
  {
   "cell_type": "code",
   "execution_count": 48,
   "id": "bbd0a88d",
   "metadata": {},
   "outputs": [],
   "source": [
    "test_data = test[[\"distance_traveled\", \"trip_duration\", \"num_of_passengers\", \"surge_applied\"]]"
   ]
  },
  {
   "cell_type": "code",
   "execution_count": 49,
   "id": "096c8fc8",
   "metadata": {},
   "outputs": [
    {
     "data": {
      "text/html": [
       "<div>\n",
       "<style scoped>\n",
       "    .dataframe tbody tr th:only-of-type {\n",
       "        vertical-align: middle;\n",
       "    }\n",
       "\n",
       "    .dataframe tbody tr th {\n",
       "        vertical-align: top;\n",
       "    }\n",
       "\n",
       "    .dataframe thead th {\n",
       "        text-align: right;\n",
       "    }\n",
       "</style>\n",
       "<table border=\"1\" class=\"dataframe\">\n",
       "  <thead>\n",
       "    <tr style=\"text-align: right;\">\n",
       "      <th></th>\n",
       "      <th>trip_duration</th>\n",
       "      <th>distance_traveled</th>\n",
       "      <th>num_of_passengers</th>\n",
       "      <th>tip</th>\n",
       "      <th>miscellaneous_fees</th>\n",
       "      <th>total_fare</th>\n",
       "      <th>surge_applied</th>\n",
       "    </tr>\n",
       "  </thead>\n",
       "  <tbody>\n",
       "    <tr>\n",
       "      <th>count</th>\n",
       "      <td>204564.000000</td>\n",
       "      <td>204564.000000</td>\n",
       "      <td>204564.000000</td>\n",
       "      <td>204564.000000</td>\n",
       "      <td>204564.000000</td>\n",
       "      <td>204564.000000</td>\n",
       "      <td>204564.000000</td>\n",
       "    </tr>\n",
       "    <tr>\n",
       "      <th>mean</th>\n",
       "      <td>1190.750484</td>\n",
       "      <td>5.127173</td>\n",
       "      <td>1.303450</td>\n",
       "      <td>13.244012</td>\n",
       "      <td>15.288830</td>\n",
       "      <td>129.215557</td>\n",
       "      <td>0.285515</td>\n",
       "    </tr>\n",
       "    <tr>\n",
       "      <th>std</th>\n",
       "      <td>4833.326135</td>\n",
       "      <td>126.770049</td>\n",
       "      <td>0.937736</td>\n",
       "      <td>20.494954</td>\n",
       "      <td>12.616267</td>\n",
       "      <td>99.232152</td>\n",
       "      <td>0.451660</td>\n",
       "    </tr>\n",
       "    <tr>\n",
       "      <th>min</th>\n",
       "      <td>1.000000</td>\n",
       "      <td>0.020000</td>\n",
       "      <td>1.000000</td>\n",
       "      <td>0.000000</td>\n",
       "      <td>-0.500000</td>\n",
       "      <td>0.000000</td>\n",
       "      <td>0.000000</td>\n",
       "    </tr>\n",
       "    <tr>\n",
       "      <th>25%</th>\n",
       "      <td>454.000000</td>\n",
       "      <td>2.000000</td>\n",
       "      <td>1.000000</td>\n",
       "      <td>0.000000</td>\n",
       "      <td>6.000000</td>\n",
       "      <td>73.125000</td>\n",
       "      <td>0.000000</td>\n",
       "    </tr>\n",
       "    <tr>\n",
       "      <th>50%</th>\n",
       "      <td>717.000000</td>\n",
       "      <td>3.250000</td>\n",
       "      <td>1.000000</td>\n",
       "      <td>9.000000</td>\n",
       "      <td>9.750000</td>\n",
       "      <td>103.500000</td>\n",
       "      <td>0.000000</td>\n",
       "    </tr>\n",
       "    <tr>\n",
       "      <th>75%</th>\n",
       "      <td>1110.000000</td>\n",
       "      <td>5.810000</td>\n",
       "      <td>1.000000</td>\n",
       "      <td>20.000000</td>\n",
       "      <td>26.525000</td>\n",
       "      <td>153.450000</td>\n",
       "      <td>1.000000</td>\n",
       "    </tr>\n",
       "    <tr>\n",
       "      <th>max</th>\n",
       "      <td>86387.000000</td>\n",
       "      <td>57283.910000</td>\n",
       "      <td>9.000000</td>\n",
       "      <td>2500.000000</td>\n",
       "      <td>435.000000</td>\n",
       "      <td>4472.250000</td>\n",
       "      <td>1.000000</td>\n",
       "    </tr>\n",
       "  </tbody>\n",
       "</table>\n",
       "</div>"
      ],
      "text/plain": [
       "       trip_duration  distance_traveled  num_of_passengers            tip  \\\n",
       "count  204564.000000      204564.000000      204564.000000  204564.000000   \n",
       "mean     1190.750484           5.127173           1.303450      13.244012   \n",
       "std      4833.326135         126.770049           0.937736      20.494954   \n",
       "min         1.000000           0.020000           1.000000       0.000000   \n",
       "25%       454.000000           2.000000           1.000000       0.000000   \n",
       "50%       717.000000           3.250000           1.000000       9.000000   \n",
       "75%      1110.000000           5.810000           1.000000      20.000000   \n",
       "max     86387.000000       57283.910000           9.000000    2500.000000   \n",
       "\n",
       "       miscellaneous_fees     total_fare  surge_applied  \n",
       "count       204564.000000  204564.000000  204564.000000  \n",
       "mean            15.288830     129.215557       0.285515  \n",
       "std             12.616267      99.232152       0.451660  \n",
       "min             -0.500000       0.000000       0.000000  \n",
       "25%              6.000000      73.125000       0.000000  \n",
       "50%              9.750000     103.500000       0.000000  \n",
       "75%             26.525000     153.450000       1.000000  \n",
       "max            435.000000    4472.250000       1.000000  "
      ]
     },
     "execution_count": 49,
     "metadata": {},
     "output_type": "execute_result"
    }
   ],
   "source": [
    "train.describe()"
   ]
  },
  {
   "cell_type": "code",
   "execution_count": 50,
   "id": "60874039",
   "metadata": {},
   "outputs": [],
   "source": [
    "test_data[\"distance_traveled\"] = np.where(test_data[\"distance_traveled\"]<=0, 0.02, test_data[\"distance_traveled\"])\n",
    "test_data[\"distance_traveled\"] = np.where(test_data[\"distance_traveled\"]>=57283.91, 57283.91, test_data[\"distance_traveled\"])"
   ]
  },
  {
   "cell_type": "code",
   "execution_count": 51,
   "id": "33bb29fc",
   "metadata": {},
   "outputs": [],
   "source": [
    "test_data[\"trip_duration\"] = np.where(test_data[\"trip_duration\"]<=0, 1.0, test_data[\"trip_duration\"])\n",
    "test_data[\"trip_duration\"] = np.where(test_data[\"trip_duration\"]>=86387, 86387, test_data[\"trip_duration\"])"
   ]
  },
  {
   "cell_type": "code",
   "execution_count": 52,
   "id": "0e99d614",
   "metadata": {},
   "outputs": [],
   "source": [
    "test_data[\"num_of_passengers\"] = np.where(test_data[\"num_of_passengers\"]<=0, 1.0, test_data[\"num_of_passengers\"])\n",
    "test_data[\"num_of_passengers\"] = np.where(test_data[\"num_of_passengers\"]>=9, 9, test_data[\"num_of_passengers\"])"
   ]
  },
  {
   "cell_type": "code",
   "execution_count": 53,
   "id": "76602f56",
   "metadata": {},
   "outputs": [
    {
     "data": {
      "text/html": [
       "<div>\n",
       "<style scoped>\n",
       "    .dataframe tbody tr th:only-of-type {\n",
       "        vertical-align: middle;\n",
       "    }\n",
       "\n",
       "    .dataframe tbody tr th {\n",
       "        vertical-align: top;\n",
       "    }\n",
       "\n",
       "    .dataframe thead th {\n",
       "        text-align: right;\n",
       "    }\n",
       "</style>\n",
       "<table border=\"1\" class=\"dataframe\">\n",
       "  <thead>\n",
       "    <tr style=\"text-align: right;\">\n",
       "      <th></th>\n",
       "      <th>distance_traveled</th>\n",
       "      <th>trip_duration</th>\n",
       "      <th>num_of_passengers</th>\n",
       "      <th>surge_applied</th>\n",
       "    </tr>\n",
       "  </thead>\n",
       "  <tbody>\n",
       "    <tr>\n",
       "      <th>count</th>\n",
       "      <td>89861.000000</td>\n",
       "      <td>89861.000000</td>\n",
       "      <td>89861.000000</td>\n",
       "      <td>89861.000000</td>\n",
       "    </tr>\n",
       "    <tr>\n",
       "      <th>mean</th>\n",
       "      <td>6.021861</td>\n",
       "      <td>1148.178164</td>\n",
       "      <td>1.290916</td>\n",
       "      <td>0.282280</td>\n",
       "    </tr>\n",
       "    <tr>\n",
       "      <th>std</th>\n",
       "      <td>270.269742</td>\n",
       "      <td>4611.478365</td>\n",
       "      <td>0.917319</td>\n",
       "      <td>0.450112</td>\n",
       "    </tr>\n",
       "    <tr>\n",
       "      <th>min</th>\n",
       "      <td>0.020000</td>\n",
       "      <td>1.000000</td>\n",
       "      <td>1.000000</td>\n",
       "      <td>0.000000</td>\n",
       "    </tr>\n",
       "    <tr>\n",
       "      <th>25%</th>\n",
       "      <td>1.950000</td>\n",
       "      <td>446.000000</td>\n",
       "      <td>1.000000</td>\n",
       "      <td>0.000000</td>\n",
       "    </tr>\n",
       "    <tr>\n",
       "      <th>50%</th>\n",
       "      <td>3.200000</td>\n",
       "      <td>705.000000</td>\n",
       "      <td>1.000000</td>\n",
       "      <td>0.000000</td>\n",
       "    </tr>\n",
       "    <tr>\n",
       "      <th>75%</th>\n",
       "      <td>5.730000</td>\n",
       "      <td>1094.000000</td>\n",
       "      <td>1.000000</td>\n",
       "      <td>1.000000</td>\n",
       "    </tr>\n",
       "    <tr>\n",
       "      <th>max</th>\n",
       "      <td>57283.910000</td>\n",
       "      <td>86387.000000</td>\n",
       "      <td>9.000000</td>\n",
       "      <td>1.000000</td>\n",
       "    </tr>\n",
       "  </tbody>\n",
       "</table>\n",
       "</div>"
      ],
      "text/plain": [
       "       distance_traveled  trip_duration  num_of_passengers  surge_applied\n",
       "count       89861.000000   89861.000000       89861.000000   89861.000000\n",
       "mean            6.021861    1148.178164           1.290916       0.282280\n",
       "std           270.269742    4611.478365           0.917319       0.450112\n",
       "min             0.020000       1.000000           1.000000       0.000000\n",
       "25%             1.950000     446.000000           1.000000       0.000000\n",
       "50%             3.200000     705.000000           1.000000       0.000000\n",
       "75%             5.730000    1094.000000           1.000000       1.000000\n",
       "max         57283.910000   86387.000000           9.000000       1.000000"
      ]
     },
     "execution_count": 53,
     "metadata": {},
     "output_type": "execute_result"
    }
   ],
   "source": [
    "test_data.describe()"
   ]
  },
  {
   "cell_type": "code",
   "execution_count": 54,
   "id": "6873db5b",
   "metadata": {},
   "outputs": [
    {
     "data": {
      "text/html": [
       "<div>\n",
       "<style scoped>\n",
       "    .dataframe tbody tr th:only-of-type {\n",
       "        vertical-align: middle;\n",
       "    }\n",
       "\n",
       "    .dataframe tbody tr th {\n",
       "        vertical-align: top;\n",
       "    }\n",
       "\n",
       "    .dataframe thead th {\n",
       "        text-align: right;\n",
       "    }\n",
       "</style>\n",
       "<table border=\"1\" class=\"dataframe\">\n",
       "  <thead>\n",
       "    <tr style=\"text-align: right;\">\n",
       "      <th></th>\n",
       "      <th>trip_duration</th>\n",
       "      <th>distance_traveled</th>\n",
       "      <th>num_of_passengers</th>\n",
       "      <th>surge_applied</th>\n",
       "    </tr>\n",
       "  </thead>\n",
       "  <tbody>\n",
       "    <tr>\n",
       "      <th>0</th>\n",
       "      <td>0.000037</td>\n",
       "      <td>0.018783</td>\n",
       "      <td>0.000</td>\n",
       "      <td>0.0</td>\n",
       "    </tr>\n",
       "    <tr>\n",
       "      <th>1</th>\n",
       "      <td>0.000006</td>\n",
       "      <td>0.007489</td>\n",
       "      <td>0.375</td>\n",
       "      <td>0.0</td>\n",
       "    </tr>\n",
       "    <tr>\n",
       "      <th>2</th>\n",
       "      <td>0.000036</td>\n",
       "      <td>0.014943</td>\n",
       "      <td>0.000</td>\n",
       "      <td>0.0</td>\n",
       "    </tr>\n",
       "    <tr>\n",
       "      <th>3</th>\n",
       "      <td>0.000026</td>\n",
       "      <td>0.010858</td>\n",
       "      <td>0.000</td>\n",
       "      <td>0.0</td>\n",
       "    </tr>\n",
       "    <tr>\n",
       "      <th>4</th>\n",
       "      <td>0.000034</td>\n",
       "      <td>0.008850</td>\n",
       "      <td>0.000</td>\n",
       "      <td>0.0</td>\n",
       "    </tr>\n",
       "  </tbody>\n",
       "</table>\n",
       "</div>"
      ],
      "text/plain": [
       "   trip_duration  distance_traveled  num_of_passengers  surge_applied\n",
       "0       0.000037           0.018783              0.000            0.0\n",
       "1       0.000006           0.007489              0.375            0.0\n",
       "2       0.000036           0.014943              0.000            0.0\n",
       "3       0.000026           0.010858              0.000            0.0\n",
       "4       0.000034           0.008850              0.000            0.0"
      ]
     },
     "execution_count": 54,
     "metadata": {},
     "output_type": "execute_result"
    }
   ],
   "source": [
    "X_test_scale = scale.transform(test_data)\n",
    "X_test_scale_df = pd.DataFrame(X_test_scale, columns=scale.get_feature_names_out())\n",
    "X_test_scale_df.head()"
   ]
  },
  {
   "cell_type": "code",
   "execution_count": 56,
   "id": "654104e9",
   "metadata": {},
   "outputs": [],
   "source": [
    "test_pred = model_5.predict(X_test_scale_df[[\"distance_traveled\", \"trip_duration\"]])"
   ]
  },
  {
   "cell_type": "code",
   "execution_count": 57,
   "id": "4a0d7db9",
   "metadata": {},
   "outputs": [
    {
     "data": {
      "text/plain": [
       "array([0.02765028, 0.19965778, 0.02765028, ..., 0.23280618, 0.02765028,\n",
       "       0.23640063], dtype=float32)"
      ]
     },
     "execution_count": 57,
     "metadata": {},
     "output_type": "execute_result"
    }
   ],
   "source": [
    "test_pred"
   ]
  },
  {
   "cell_type": "code",
   "execution_count": 60,
   "id": "b2ed10e8",
   "metadata": {},
   "outputs": [
    {
     "data": {
      "text/plain": [
       "array([[ 123.49306],\n",
       "       [ 891.72156],\n",
       "       [ 123.49306],\n",
       "       ...,\n",
       "       [1039.7706 ],\n",
       "       [ 123.49306],\n",
       "       [1055.8243 ]], dtype=float32)"
      ]
     },
     "execution_count": 60,
     "metadata": {},
     "output_type": "execute_result"
    }
   ],
   "source": [
    "test_pred = out_scale.inverse_transform(np.reshape(test_pred, (-1,1)))\n",
    "test_pred"
   ]
  },
  {
   "cell_type": "code",
   "execution_count": 61,
   "id": "f9d56588",
   "metadata": {},
   "outputs": [],
   "source": [
    "test_pred = np.squeeze(test_pred)"
   ]
  },
  {
   "cell_type": "code",
   "execution_count": 70,
   "id": "93f09290",
   "metadata": {},
   "outputs": [
    {
     "data": {
      "text/plain": [
       "array([ 136.99305725,  905.22155762,  153.49305725, ..., 1066.39562988,\n",
       "        178.69305725, 1084.99934082])"
      ]
     },
     "execution_count": 70,
     "metadata": {},
     "output_type": "execute_result"
    }
   ],
   "source": [
    "total_fare = np.abs(test_pred) + np.array(test[\"tip\"]) + np.array(test[\"miscellaneous_fees\"])\n",
    "total_fare"
   ]
  },
  {
   "cell_type": "code",
   "execution_count": 71,
   "id": "668d4f4f",
   "metadata": {},
   "outputs": [],
   "source": [
    "total_fare_df = pd.DataFrame(total_fare, columns=[\"total_fare\"])"
   ]
  },
  {
   "cell_type": "code",
   "execution_count": 73,
   "id": "143d4244",
   "metadata": {},
   "outputs": [],
   "source": [
    "total_fare_df.to_csv(\"total_fare_1.csv\", index=False)"
   ]
  },
  {
   "cell_type": "code",
   "execution_count": null,
   "id": "81a5f399",
   "metadata": {},
   "outputs": [],
   "source": []
  }
 ],
 "metadata": {
  "kernelspec": {
   "display_name": "Python 3 (ipykernel)",
   "language": "python",
   "name": "python3"
  },
  "language_info": {
   "codemirror_mode": {
    "name": "ipython",
    "version": 3
   },
   "file_extension": ".py",
   "mimetype": "text/x-python",
   "name": "python",
   "nbconvert_exporter": "python",
   "pygments_lexer": "ipython3",
   "version": "3.9.13"
  }
 },
 "nbformat": 4,
 "nbformat_minor": 5
}
